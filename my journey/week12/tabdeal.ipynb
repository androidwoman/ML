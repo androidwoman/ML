{
 "cells": [
  {
   "cell_type": "code",
   "execution_count": 12,
   "metadata": {},
   "outputs": [
    {
     "name": "stdout",
     "output_type": "stream",
     "text": [
      "['BTC_IRT', 'USDT_IRT', 'ETH_IRT', 'TRX_IRT', 'PAXG_IRT', 'LTC_USDT', 'BCH_USDT', 'ETC_USDT', 'BNB_USDT', 'XLM_USDT', 'XRP_USDT', 'DOGE_USDT', 'EOS_USDT', 'LINK_USDT', 'ADA_USDT', 'ZEC_USDT', 'NEO_USDT', 'XEM_USDT', 'XMR_USDT', 'DASH_USDT', 'DOT_USDT', 'MKR_USDT', 'ONT_USDT', 'ATOM_USDT', 'IOTA_USDT', 'UNI_USDT', 'QTUM_USDT', 'EGLD_USDT', 'ENJ_USDT', 'LUNA_USDT', 'THETA_USDT', 'AAVE_USDT', 'XTZ_USDT', 'MATIC_USDT', 'CHZ_USDT', 'FIL_USDT', 'VET_USDT', 'MDT_USDT', 'ONE_USDT', 'WIN_USDT', 'PUNDIX_USDT', 'SHIB_USDT', 'CAKE_USDT', 'SOL_USDT', '1INCH_USDT', 'CELR_USDT', 'ICP_USDT', 'SUSHI_USDT', 'HOT_USDT', 'COMP_USDT', 'CELO_USDT', 'AXS_USDT', 'HBAR_USDT', 'AVAX_USDT', 'ALGO_USDT', 'BAT_USDT', 'SNX_USDT', 'ZIL_USDT', 'FTM_USDT', 'SLP_USDT', 'MANA_USDT', 'SAND_USDT', 'LRC_USDT', 'ANKR_USDT', 'GRT_USDT', 'FLOW_USDT', 'WAVES_USDT', 'DYDX_USDT', 'DGB_USDT', 'KAVA_USDT', 'REEF_USDT', 'NEAR_USDT', 'GALA_USDT', 'KDA_USDT', 'XVG_USDT', 'ALICE_USDT', 'BTTC_USDT', 'XNO_USDT', 'ROSE_USDT', 'RUNE_USDT', 'STX_USDT', 'CRV_USDT', 'AR_USDT', 'APE_USDT', 'SXP_USDT', 'BABYDOGE_USDT', 'KLAY_USDT', 'MINA_USDT', 'SCRT_USDT', 'QNT_USDT', 'AMP_USDT', 'JASMY_USDT', 'DCR_USDT', 'GMT_USDT', 'LUNC_USDT', 'BURGER_USDT', 'OP_USDT', 'RVN_USDT', 'LAZIO_USDT', 'PORTO_USDT', 'PSG_USDT', 'BAR_USDT', 'CITY_USDT', 'ACM_USDT', 'ATM_USDT', 'ASR_USDT', 'JUV_USDT', 'FTT_USDT', 'XEC_USDT', 'LDO_USDT', 'TWT_USDT', 'KNC_USDT', 'STORJ_USDT', 'OMG_USDT', 'ICX_USDT', 'AUDIO_USDT', 'ZRX_USDT', 'YFI_USDT', 'LPT_USDT', 'BAL_USDT', 'WOO_USDT', 'WAXP_USDT', 'ENS_USDT', 'FLUX_USDT', 'RSR_USDT', 'HIVE_USDT', 'SC_USDT', 'IMX_USDT', 'UMA_USDT', 'REQ_USDT', 'REN_USDT', 'COTI_USDT', 'RLC_USDT', 'POWR_USDT', 'INJ_USDT', 'LSK_USDT', 'CKB_USDT', 'DENT_USDT', 'NMR_USDT', 'CTSI_USDT', 'VGX_USDT', 'ZEN_USDT', 'SKL_USDT', 'PEOPLE_USDT', 'RNDR_USDT', 'ACA_USDT', 'SPELL_USDT', 'CFX_USDT', 'ELF_USDT', 'MTL_USDT', 'OGN_USDT', 'C98_USDT', 'FXS_USDT', 'STRAX_USDT', 'STEEM_USDT', 'CVC_USDT', 'OCEAN_USDT', 'ARDR_USDT', 'TFUEL_USDT', 'FET_USDT', 'ACH_USDT', 'BAKE_USDT', 'BOND_USDT', 'GMX_USDT', 'STPT_USDT', 'GAL_USDT', 'STMX_USDT', 'CHR_USDT', 'T_USDT', 'PYR_USDT', 'ONG_USDT', 'API3_USDT', 'ERN_USDT', 'KP3R_USDT', 'SUN_USDT', 'DAR_USDT', 'TLM_USDT', 'STG_USDT', 'MBOX_USDT', 'GHST_USDT', 'APT_USDT', 'POLYX_USDT', 'FLOKI_USDT', 'ELON_USDT', 'KISHU_USDT', 'KSM_USDT', 'OSMO_USDT', 'TON_USDT', 'CRO_USDT', 'WBTC_USDT', 'OKB_USDT', 'KCS_USDT', 'BSV_USDT', 'AGIX_USDT', 'GT_USDT', 'CSPR_USDT', 'XDC_USDT', 'SSV_USDT', 'ETHW_USDT', 'MAGIC_USDT', 'ASTR_USDT', 'DAO_USDT', 'XCH_USDT', 'MASK_USDT', 'BAND_USDT', 'BICO_USDT', 'XCN_USDT', 'LQTY_USDT', 'MX_USDT', 'CORE_USDT', 'NFT_USDT', 'ARB_USDT', 'BNX_USDT', 'BLUR_USDT', 'PEPE_USDT', 'SUI_USDT', 'HFT_USDT', 'VRA_USDT', 'LOOKS_USDT', 'HIFI_USDT', 'RAD_USDT', 'JOE_USDT', 'RIF_USDT', 'ILV_USDT', 'SYN_USDT', 'RPL_USDT', 'HOOK_USDT', 'SFP_USDT', 'CEL_USDT', 'HIGH_USDT', 'GTC_USDT', 'STETH_USDT', 'XAUT_USDT', 'CTC_USDT', 'ALPHA_USDT', 'NKN_USDT', 'XRD_USDT', 'AXL_USDT', 'RSS3_USDT', 'DODO_USDT', 'YGG_USDT', 'WMT_USDT', 'BADGER_USDT', 'ATA_USDT', 'ARPA_USDT', 'FLM_USDT', 'PERP_USDT', 'LIT_USDT', 'TRU_USDT', 'LINA_USDT', 'AGLD_USDT', 'TRB_USDT', 'ZBC_USDT', 'DLC_USDT', 'MOVR_USDT', 'RARE_USDT', 'MBL_USDT', 'BLZ_USDT', 'WLD_USDT', 'SEI_USDT', 'WSM_USDT', 'BIGTIME_USDT', 'KAS_USDT', 'ARK_USDT', 'LOOM_USDT', 'TOMI_USDT', 'STARL_USDT', 'GLM_USDT', 'ORBS_USDT', 'TIA_USDT', 'GAS_USDT', 'CYBER_USDT', 'ORDI_USDT', 'MEME_USDT', 'BEAMX_USDT', 'VIC_USDT', 'PYTH_USDT', 'NAKA_USDT', 'RDNT_USDT', 'ID_USDT', 'BONK_USDT', 'WEMIX_USDT', 'SUPER_USDT', 'VANRY_USDT', 'AERGO_USDT', 'GODS_USDT', 'GROK_USDT', 'TURBO_USDT', 'LADYS_USDT', 'FUN_USDT', 'QI_USDT', 'SATS_USDT', 'AUCTION_USDT', 'SFUND_USDT', 'RAY_USDT', 'JTO_USDT', 'PENDLE_USDT', 'EDU_USDT', 'NTRN_USDT', 'VTHO_USDT', 'ACE_USDT', 'METIS_USDT', 'MNT_USDT', 'FLR_USDT', 'RON_USDT', 'BONE_USDT', 'FTN_USDT', 'KEY_USDT', 'VELO_USDT', 'ORN_USDT', 'FRONT_USDT', 'FIDA_USDT', 'VOXEL_USDT', 'AKT_USDT', 'ALT_USDT', 'MANTA_USDT', 'BLOK_USDT', 'DYM_USDT', 'PIXEL_USDT', 'STRK_USDT', 'LEO_USDT']\n"
     ]
    }
   ],
   "source": [
    "import json\n",
    "\n",
    "# Open the JSON file\n",
    "with open('response.json', 'r') as f:\n",
    "    data = json.load(f)\n",
    "\n",
    "first_currency_symbols = []\n",
    "for item in data:\n",
    "    # Check if \"markets\" exists and is not empty\n",
    "    if \"markets\" in item and item[\"markets\"]:\n",
    "        # Extract the list of first_currency symbols\n",
    "        first_currency_symbols.append(item[\"markets\"][0][\"symbol\"])\n",
    "\n",
    "print(first_currency_symbols)\n"
   ]
  },
  {
   "cell_type": "code",
   "execution_count": 19,
   "metadata": {},
   "outputs": [
    {
     "name": "stdout",
     "output_type": "stream",
     "text": [
      "current_date 2023-10-01 00:00:00\n"
     ]
    }
   ],
   "source": [
    "import requests\n",
    "from datetime import datetime, timedelta\n",
    "\n",
    "# Initialize your starting capital\n",
    "capital = 1000000  # 1 million dollars\n",
    "\n",
    "# Your API endpoint\n",
    "api_url = 'https://api-web.tabdeal.org/r/plots/history/'\n",
    "\n",
    "# Function to get the daily stock data\n",
    "def get_daily_stock_data(symbol, from_timestamp, to_timestamp):\n",
    "    response = requests.get(f\"{api_url}?symbol={symbol}&from={from_timestamp}&to={to_timestamp}&resolution=1D\")\n",
    "    if response.status_code == 200:\n",
    "        return response.json()['data']\n",
    "    else:\n",
    "        return None\n",
    "\n",
    "# Function to calculate the profit\n",
    "def calculate_profit(capital, percent_increase):\n",
    "    return capital * (percent_increase / 100)\n",
    "\n",
    "# Start from the beginning of 2023 until today\n",
    "start_date = datetime(2023, 10, 1)\n",
    "end_date = datetime.now()\n",
    "\n",
    "# Simulate the trading strategy\n",
    "current_date = start_date\n",
    "while current_date <= end_date:\n",
    "    print(\"current_date\",current_date)\n",
    "    # Placeholder for the actual list of symbols\n",
    "    symbols = first_currency_symbols  # Add your symbols here\n",
    "    \n",
    "    # Fetch stock data and filter for stocks with more than 15% profit\n",
    "    profitable_stocks = []\n",
    "    for symbol in symbols:\n",
    "        from_timestamp = int(current_date.timestamp())\n",
    "        to_timestamp = int((current_date + timedelta(days=1)).timestamp())\n",
    "        daily_data = get_daily_stock_data(symbol, from_timestamp, to_timestamp)\n",
    "        # print(\"symbol\" ,symbol ,\" \" ,daily_data)\n",
    "        \n",
    "        if daily_data:\n",
    "            # Calculate the daily profit for each stock\n",
    "            for data in daily_data:\n",
    "                open_price = data['open']\n",
    "                close_price = data['close']\n",
    "                if open_price!=0:\n",
    "                  percent_increase = ((close_price - open_price) / open_price) * 100\n",
    "                  if percent_increase > 10:\n",
    "                    print(\"add symbol\",symbol)\n",
    "                    profitable_stocks.append(symbol)\n",
    "                    break\n",
    "    \n",
    "    # Sell all holdings and invest in profitable stocks\n",
    "    if profitable_stocks:\n",
    "        capital_per_stock = capital / len(profitable_stocks)\n",
    "        for stock in profitable_stocks:\n",
    "            # Assume we can buy at the closing price\n",
    "            closing_price = get_daily_stock_data(stock, from_timestamp, to_timestamp)[-1]['close']\n",
    "            shares_bought = capital_per_stock / closing_price\n",
    "            # Calculate profit for the next day\n",
    "            next_day_close_price = get_daily_stock_data(stock, to_timestamp, to_timestamp + 86400)[-1]['close']\n",
    "            capital += calculate_profit(capital_per_stock, ((next_day_close_price - closing_price) / closing_price) * 100)\n",
    "    \n",
    "    # Move to the next day\n",
    "    current_date += timedelta(days=1)\n",
    "\n",
    "# Output the final capital after the simulation\n",
    "print(f'Final capital after trading: ${capital:.2f}')\n"
   ]
  }
 ],
 "metadata": {
  "kernelspec": {
   "display_name": "myenv",
   "language": "python",
   "name": "python3"
  },
  "language_info": {
   "codemirror_mode": {
    "name": "ipython",
    "version": 3
   },
   "file_extension": ".py",
   "mimetype": "text/x-python",
   "name": "python",
   "nbconvert_exporter": "python",
   "pygments_lexer": "ipython3",
   "version": "3.10.13"
  }
 },
 "nbformat": 4,
 "nbformat_minor": 2
}
